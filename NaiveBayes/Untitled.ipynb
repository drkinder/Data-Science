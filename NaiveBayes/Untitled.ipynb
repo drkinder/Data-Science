{
 "cells": [
  {
   "cell_type": "code",
   "execution_count": 113,
   "metadata": {},
   "outputs": [],
   "source": [
    "import numpy as np\n",
    "import pandas as pd\n",
    "import string\n",
    "from sklearn.model_selection import train_test_split\n",
    "from NaiveBayesTextClassifier import NaiveBayesTextClassifier"
   ]
  },
  {
   "cell_type": "code",
   "execution_count": 114,
   "metadata": {},
   "outputs": [],
   "source": [
    "def remove_punctuation(text):\n",
    "    for punct in string.punctuation:\n",
    "        text = text.replace(punct, '')\n",
    "    return text"
   ]
  },
  {
   "cell_type": "code",
   "execution_count": 115,
   "metadata": {},
   "outputs": [],
   "source": [
    "df = pd.read_csv(\"trumbama_twitter_data.csv\", encoding = \"ISO-8859-1\")\n",
    "df.columns = ['User', 'Tweet']\n",
    "\n",
    "df['Tweet'] = df['Tweet'].apply(remove_punctuation)"
   ]
  },
  {
   "cell_type": "code",
   "execution_count": 128,
   "metadata": {},
   "outputs": [],
   "source": [
    "df = df[~df['Tweet'].str.startswith(\"RT\")]\n",
    "Xtrain, Xtest, ytrain, ytest = train_test_split(df['Tweet'], df['User'], random_state=1)"
   ]
  },
  {
   "cell_type": "code",
   "execution_count": 129,
   "metadata": {},
   "outputs": [],
   "source": [
    "Xtrain = np.array(Xtrain.str.split(' '))\n",
    "Xtest = np.array(Xtest.str.split(' '))\n"
   ]
  },
  {
   "cell_type": "code",
   "execution_count": 130,
   "metadata": {},
   "outputs": [
    {
     "data": {
      "text/plain": [
       "0.8641975308641975"
      ]
     },
     "execution_count": 130,
     "metadata": {},
     "output_type": "execute_result"
    }
   ],
   "source": [
    "nbtc = NaiveBayesTextClassifier(Xtrain, ytrain)\n",
    "nbtc.train()\n",
    "predictions = nbtc.predict(Xtest)\n",
    "\n",
    "text_predictions = [p[0] for p in predictions]\n",
    "np.mean(text_predictions == ytest)"
   ]
  },
  {
   "cell_type": "code",
   "execution_count": null,
   "metadata": {},
   "outputs": [],
   "source": []
  }
 ],
 "metadata": {
  "kernelspec": {
   "display_name": "Python 3",
   "language": "python",
   "name": "python3"
  },
  "language_info": {
   "codemirror_mode": {
    "name": "ipython",
    "version": 3
   },
   "file_extension": ".py",
   "mimetype": "text/x-python",
   "name": "python",
   "nbconvert_exporter": "python",
   "pygments_lexer": "ipython3",
   "version": "3.7.2"
  }
 },
 "nbformat": 4,
 "nbformat_minor": 2
}
