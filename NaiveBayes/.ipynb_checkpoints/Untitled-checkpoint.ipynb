{
 "cells": [
  {
   "cell_type": "code",
   "execution_count": 9,
   "metadata": {},
   "outputs": [],
   "source": [
    "import numpy as np\n",
    "import pandas as pd\n",
    "from sklearn.model_selection import train_test_split\n",
    "from NaiveBayesTextClassifier import NaiveBayesTextClassifier"
   ]
  },
  {
   "cell_type": "code",
   "execution_count": 18,
   "metadata": {},
   "outputs": [],
   "source": [
    "def remove_punctuation(text):\n",
    "    for punct in \"string\".punctuation:\n",
    "        return text.replace(punctuation, '')"
   ]
  },
  {
   "cell_type": "code",
   "execution_count": 19,
   "metadata": {},
   "outputs": [
    {
     "ename": "NameError",
     "evalue": "name 'string' is not defined",
     "output_type": "error",
     "traceback": [
      "\u001b[1;31m---------------------------------------------------------------------------\u001b[0m",
      "\u001b[1;31mNameError\u001b[0m                                 Traceback (most recent call last)",
      "\u001b[1;32m<ipython-input-19-0a0266b7f5a5>\u001b[0m in \u001b[0;36m<module>\u001b[1;34m\u001b[0m\n\u001b[0;32m      1\u001b[0m \u001b[0mdf\u001b[0m \u001b[1;33m=\u001b[0m \u001b[0mpd\u001b[0m\u001b[1;33m.\u001b[0m\u001b[0mread_csv\u001b[0m\u001b[1;33m(\u001b[0m\u001b[1;34m\"trumbama_twitter_data.csv\"\u001b[0m\u001b[1;33m,\u001b[0m \u001b[0mencoding\u001b[0m \u001b[1;33m=\u001b[0m \u001b[1;34m\"ISO-8859-1\"\u001b[0m\u001b[1;33m)\u001b[0m\u001b[1;33m\u001b[0m\u001b[1;33m\u001b[0m\u001b[0m\n\u001b[0;32m      2\u001b[0m \u001b[0mdf\u001b[0m\u001b[1;33m.\u001b[0m\u001b[0mcolumns\u001b[0m \u001b[1;33m=\u001b[0m \u001b[1;33m[\u001b[0m\u001b[1;34m'User'\u001b[0m\u001b[1;33m,\u001b[0m \u001b[1;34m'Tweet'\u001b[0m\u001b[1;33m]\u001b[0m\u001b[1;33m\u001b[0m\u001b[1;33m\u001b[0m\u001b[0m\n\u001b[1;32m----> 3\u001b[1;33m \u001b[0mdf\u001b[0m\u001b[1;33m[\u001b[0m\u001b[1;34m'Tweet'\u001b[0m\u001b[1;33m]\u001b[0m \u001b[1;33m=\u001b[0m \u001b[0mdf\u001b[0m\u001b[1;33m[\u001b[0m\u001b[1;34m'Tweet'\u001b[0m\u001b[1;33m]\u001b[0m\u001b[1;33m.\u001b[0m\u001b[0mapply\u001b[0m\u001b[1;33m(\u001b[0m\u001b[0mremove_punctuation\u001b[0m\u001b[1;33m)\u001b[0m\u001b[1;33m\u001b[0m\u001b[1;33m\u001b[0m\u001b[0m\n\u001b[0m\u001b[0;32m      4\u001b[0m \u001b[1;33m\u001b[0m\u001b[0m\n\u001b[0;32m      5\u001b[0m \u001b[0mdf\u001b[0m\u001b[1;33m.\u001b[0m\u001b[0mloc\u001b[0m\u001b[1;33m[\u001b[0m\u001b[0mdf\u001b[0m\u001b[1;33m[\u001b[0m\u001b[1;34m'User'\u001b[0m\u001b[1;33m]\u001b[0m \u001b[1;33m==\u001b[0m \u001b[1;34m\"Trump\"\u001b[0m\u001b[1;33m,\u001b[0m \u001b[1;34m'User'\u001b[0m\u001b[1;33m]\u001b[0m \u001b[1;33m=\u001b[0m \u001b[1;36m0\u001b[0m\u001b[1;33m\u001b[0m\u001b[1;33m\u001b[0m\u001b[0m\n",
      "\u001b[1;32mc:\\users\\dylan\\appdata\\local\\programs\\python\\python37-32\\lib\\site-packages\\pandas\\core\\series.py\u001b[0m in \u001b[0;36mapply\u001b[1;34m(self, func, convert_dtype, args, **kwds)\u001b[0m\n\u001b[0;32m   3589\u001b[0m             \u001b[1;32melse\u001b[0m\u001b[1;33m:\u001b[0m\u001b[1;33m\u001b[0m\u001b[1;33m\u001b[0m\u001b[0m\n\u001b[0;32m   3590\u001b[0m                 \u001b[0mvalues\u001b[0m \u001b[1;33m=\u001b[0m \u001b[0mself\u001b[0m\u001b[1;33m.\u001b[0m\u001b[0mastype\u001b[0m\u001b[1;33m(\u001b[0m\u001b[0mobject\u001b[0m\u001b[1;33m)\u001b[0m\u001b[1;33m.\u001b[0m\u001b[0mvalues\u001b[0m\u001b[1;33m\u001b[0m\u001b[1;33m\u001b[0m\u001b[0m\n\u001b[1;32m-> 3591\u001b[1;33m                 \u001b[0mmapped\u001b[0m \u001b[1;33m=\u001b[0m \u001b[0mlib\u001b[0m\u001b[1;33m.\u001b[0m\u001b[0mmap_infer\u001b[0m\u001b[1;33m(\u001b[0m\u001b[0mvalues\u001b[0m\u001b[1;33m,\u001b[0m \u001b[0mf\u001b[0m\u001b[1;33m,\u001b[0m \u001b[0mconvert\u001b[0m\u001b[1;33m=\u001b[0m\u001b[0mconvert_dtype\u001b[0m\u001b[1;33m)\u001b[0m\u001b[1;33m\u001b[0m\u001b[1;33m\u001b[0m\u001b[0m\n\u001b[0m\u001b[0;32m   3592\u001b[0m \u001b[1;33m\u001b[0m\u001b[0m\n\u001b[0;32m   3593\u001b[0m         \u001b[1;32mif\u001b[0m \u001b[0mlen\u001b[0m\u001b[1;33m(\u001b[0m\u001b[0mmapped\u001b[0m\u001b[1;33m)\u001b[0m \u001b[1;32mand\u001b[0m \u001b[0misinstance\u001b[0m\u001b[1;33m(\u001b[0m\u001b[0mmapped\u001b[0m\u001b[1;33m[\u001b[0m\u001b[1;36m0\u001b[0m\u001b[1;33m]\u001b[0m\u001b[1;33m,\u001b[0m \u001b[0mSeries\u001b[0m\u001b[1;33m)\u001b[0m\u001b[1;33m:\u001b[0m\u001b[1;33m\u001b[0m\u001b[1;33m\u001b[0m\u001b[0m\n",
      "\u001b[1;32mpandas\\_libs\\lib.pyx\u001b[0m in \u001b[0;36mpandas._libs.lib.map_infer\u001b[1;34m()\u001b[0m\n",
      "\u001b[1;32m<ipython-input-18-7b284ce71422>\u001b[0m in \u001b[0;36mremove_punctuation\u001b[1;34m(text)\u001b[0m\n\u001b[0;32m      1\u001b[0m \u001b[1;32mdef\u001b[0m \u001b[0mremove_punctuation\u001b[0m\u001b[1;33m(\u001b[0m\u001b[0mtext\u001b[0m\u001b[1;33m)\u001b[0m\u001b[1;33m:\u001b[0m\u001b[1;33m\u001b[0m\u001b[1;33m\u001b[0m\u001b[0m\n\u001b[1;32m----> 2\u001b[1;33m     \u001b[1;32mfor\u001b[0m \u001b[0mpunct\u001b[0m \u001b[1;32min\u001b[0m \u001b[0mstring\u001b[0m\u001b[1;33m.\u001b[0m\u001b[0mpunctuation\u001b[0m\u001b[1;33m:\u001b[0m\u001b[1;33m\u001b[0m\u001b[1;33m\u001b[0m\u001b[0m\n\u001b[0m\u001b[0;32m      3\u001b[0m         \u001b[1;32mreturn\u001b[0m \u001b[0mtext\u001b[0m\u001b[1;33m.\u001b[0m\u001b[0mreplace\u001b[0m\u001b[1;33m(\u001b[0m\u001b[0mpunctuation\u001b[0m\u001b[1;33m,\u001b[0m \u001b[1;34m''\u001b[0m\u001b[1;33m)\u001b[0m\u001b[1;33m\u001b[0m\u001b[1;33m\u001b[0m\u001b[0m\n",
      "\u001b[1;31mNameError\u001b[0m: name 'string' is not defined"
     ]
    }
   ],
   "source": [
    "df = pd.read_csv(\"trumbama_twitter_data.csv\", encoding = \"ISO-8859-1\")\n",
    "df.columns = ['User', 'Tweet']\n",
    "df['Tweet'] = df['Tweet'].apply(remove_punctuation)\n",
    "\n",
    "df.loc[df['User'] == \"Trump\", 'User'] = 0\n",
    "df.loc[df['User'] == \"Obama\", 'User'] = 1"
   ]
  },
  {
   "cell_type": "code",
   "execution_count": 15,
   "metadata": {},
   "outputs": [],
   "source": [
    "df = df[~df['Tweet'].str.startswith(\"['RT\")]\n",
    "Xtrain, Xtest, ytrain, ytest = train_test_split(df['Tweet'], df['User'], random_state=2)"
   ]
  },
  {
   "cell_type": "code",
   "execution_count": 16,
   "metadata": {},
   "outputs": [
    {
     "data": {
      "text/plain": [
       "310    ['Congratulations to the @Capitals! This @NHLB...\n",
       "370    [\"Michelle and I want the @ObamaFoundation to ...\n",
       "9      ['Nervous Nancy Pelosi &amp; the Democrat Hous...\n",
       "364    ['Proud to cheer on Team USA at the Invictus G...\n",
       "161    ['Anyone associated with the 1994 Crime Bill w...\n",
       "229    ['.@BarbeAlice is helping refugees resettle in...\n",
       "302    ['Our statement on the passing of Senator John...\n",
       "79     ['Mexico is sending a big delegation to talk a...\n",
       "176    ['Great progress being made in our Trade Negot...\n",
       "185    [\"You've got a lot to be proud of, Jiwandeep. ...\n",
       "116    ['As we celebrate LGBT Pride Month and recogni...\n",
       "221    [\"In 2011, I visited the tiny town of Moneygal...\n",
       "214    [\"Heres a story about people doing good that'...\n",
       "222    ['Michelle and I send our condolences to the p...\n",
       "33     ['To the men who sit behind me, and to the boy...\n",
       "179    ['North Korea fired off some small weapons, wh...\n",
       "84     ['NO COLLUSION, NO OBSTRUCTION, NO NOTHING! W...\n",
       "118    ['Saddened to hear about the loss of John Pint...\n",
       "145    ['How do you impeach a Republican President fo...\n",
       "282    ['Tomorrows elections might be the most impor...\n",
       "316    ['There are few issues more important to the s...\n",
       "362    [\"I'm grateful to @SenJohnMcCain for his lifet...\n",
       "252    ['Leaders like Hong Hoang, who mobilized a you...\n",
       "193    [\"Happy Mother's Day to the most caring, brill...\n",
       "165    [\"Liz Cheney: Statements by agents investigati...\n",
       "5      ['Just watched the Great @Rick24Barry, Basketb...\n",
       "349    ['Michelle and I are delighted to congratulate...\n",
       "259    ['Merry Christmas and happy holidays to the ex...\n",
       "151    ['Back from Japan after a very successful trip...\n",
       "233    ['Zion Williamson seems like an outstanding yo...\n",
       "                             ...                        \n",
       "218    ['Just in the nick of time: My brackets have n...\n",
       "27     ['#DDay75thAnniversary #DDay75 https://t.co/c8...\n",
       "333    ['Billy Graham was a humble servant who prayed...\n",
       "347    [\"Just got off a call to thank folks who are w...\n",
       "143    ['I was not informed about anything having to ...\n",
       "269    ['Thanks to the Chicago @FoodDepository team f...\n",
       "220    ['The floods in the Midwest and in southern Af...\n",
       "160    ['I will be making two stops this morning in J...\n",
       "127    ['I will be watching @AlanDersh on @IngrahamAn...\n",
       "128    ['....at which time the Tariffs will be remove...\n",
       "14     ['....stem the tide of Migration through Mexic...\n",
       "369    ['Coding is important  and fun. @CSforAll, th...\n",
       "279    ['When you vote, you have the power to make it...\n",
       "289    ['The last presidential election turned on few...\n",
       "73     ['.@SadiqKhan, who by all accounts has done a ...\n",
       "296    [\"The antidote to government by a powerful few...\n",
       "334    [\"We are grieving with Parkland. But we are no...\n",
       "231    ['On International Womens Day, Im reflecting...\n",
       "295    ['From civil servants to organizers, the young...\n",
       "44     ['House Republicans support the President on ...\n",
       "13     ['While the reviews and reporting on our Borde...\n",
       "361    ['Tonight the ex-Presidents are getting togeth...\n",
       "63     ['Russia has informed us that they have remove...\n",
       "290    ['America is always at our best when we look o...\n",
       "111    ['Emmet Flood, who came to the White House to ...\n",
       "137    ['Robert Mueller came to the Oval Office (alon...\n",
       "254    ['Leaders like Dejah Powell, who started an or...\n",
       "4      ['Little @DonnyDeutsch, whose show, like his p...\n",
       "195    [\"RT @MichelleObama: Congratulations, Meghan a...\n",
       "121    ['Mexico has taken advantage of the United Sta...\n",
       "Name: Tweet, Length: 82, dtype: object"
      ]
     },
     "execution_count": 16,
     "metadata": {},
     "output_type": "execute_result"
    }
   ],
   "source": [
    "Xtest"
   ]
  },
  {
   "cell_type": "code",
   "execution_count": null,
   "metadata": {},
   "outputs": [],
   "source": []
  }
 ],
 "metadata": {
  "kernelspec": {
   "display_name": "Python 3",
   "language": "python",
   "name": "python3"
  },
  "language_info": {
   "codemirror_mode": {
    "name": "ipython",
    "version": 3
   },
   "file_extension": ".py",
   "mimetype": "text/x-python",
   "name": "python",
   "nbconvert_exporter": "python",
   "pygments_lexer": "ipython3",
   "version": "3.7.2"
  }
 },
 "nbformat": 4,
 "nbformat_minor": 2
}
