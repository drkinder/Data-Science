{
 "cells": [
  {
   "cell_type": "code",
   "execution_count": 183,
   "metadata": {},
   "outputs": [],
   "source": [
    "import pandas as pd\n",
    "import numpy as np\n",
    "import matplotlib.pyplot as plt\n",
    "from sklearn.model_selection import train_test_split\n",
    "from sklearn.feature_extraction.text import CountVectorizer\n",
    "from sklearn.feature_extraction.text import TfidfTransformer\n",
    "from sklearn.naive_bayes import MultinomialNB"
   ]
  },
  {
   "cell_type": "code",
   "execution_count": 193,
   "metadata": {},
   "outputs": [],
   "source": [
    "df = pd.read_csv(\"trumbama_twitter_data.csv\", encoding = \"ISO-8859-1\")\n",
    "df.columns = ['User', 'Tweet']\n",
    "#dummy = df['User'].str.get_dummies()\n",
    "#df = pd.concat([df, dummy], axis=1)\n",
    "#del df ['User']\n",
    "df.loc[df['User'] == \"Trump\", 'User'] = 0\n",
    "df.loc[df['User'] == \"Obama\", 'User'] = 1"
   ]
  },
  {
   "cell_type": "code",
   "execution_count": 194,
   "metadata": {},
   "outputs": [],
   "source": [
    "df = df[~df['Tweet'].str.startswith(\"['RT\")]\n",
    "Xtrain, Xtest, ytrain, ytest = train_test_split(df['Tweet'], df['User'], random_state=1)"
   ]
  },
  {
   "cell_type": "code",
   "execution_count": 195,
   "metadata": {},
   "outputs": [],
   "source": [
    "count_vect = CountVectorizer()\n",
    "Xtrain_counts = count_vect.fit_transform(Xtrain)"
   ]
  },
  {
   "cell_type": "code",
   "execution_count": 196,
   "metadata": {},
   "outputs": [
    {
     "data": {
      "text/plain": [
       "245"
      ]
     },
     "execution_count": 196,
     "metadata": {},
     "output_type": "execute_result"
    }
   ],
   "source": [
    "tfidf_transformer = TfidfTransformer()\n",
    "Xtrain_tfidf = tfidf_transformer.fit_transform(Xtrain_counts)\n",
    "Xtrain_tfidf.shape[0]"
   ]
  },
  {
   "cell_type": "code",
   "execution_count": 197,
   "metadata": {},
   "outputs": [],
   "source": [
    "#Xtrain = Xtrain[:, np.newaxis]\n",
    "#ytrain_tfidf = pd.Series(ytrain_tfidf)\n",
    "#ytrain_tfidf = pd.to_numeric(pd.Series(ytrain_tfidf))\n",
    "#Xtrain.astype(np.int64)"
   ]
  },
  {
   "cell_type": "code",
   "execution_count": 198,
   "metadata": {},
   "outputs": [],
   "source": [
    "clf = MultinomialNB().fit(Xtrain_tfidf, ytrain.astype(np.int64))\n",
    "# .astype(np.int64)"
   ]
  },
  {
   "cell_type": "code",
   "execution_count": 199,
   "metadata": {},
   "outputs": [
    {
     "data": {
      "text/plain": [
       "(82,)"
      ]
     },
     "execution_count": 199,
     "metadata": {},
     "output_type": "execute_result"
    }
   ],
   "source": [
    "#Xtest = Xtest[:, np.newaxis]\n",
    "Xtest.shape"
   ]
  },
  {
   "cell_type": "code",
   "execution_count": 200,
   "metadata": {},
   "outputs": [
    {
     "data": {
      "text/plain": [
       "(82, 2177)"
      ]
     },
     "execution_count": 200,
     "metadata": {},
     "output_type": "execute_result"
    }
   ],
   "source": [
    "Xtest_counts = count_vect.transform(Xtest)\n",
    "#Xtest_tfidf = tfidf_transformer.transform(Xtest_counts)\n",
    "#Xtest_tfidf.shape\n",
    "Xtest_counts.shape"
   ]
  },
  {
   "cell_type": "code",
   "execution_count": 201,
   "metadata": {},
   "outputs": [],
   "source": [
    "predicted = clf.predict(Xtest_counts)"
   ]
  },
  {
   "cell_type": "code",
   "execution_count": 202,
   "metadata": {},
   "outputs": [
    {
     "data": {
      "text/plain": [
       "0.8414634146341463"
      ]
     },
     "execution_count": 202,
     "metadata": {},
     "output_type": "execute_result"
    }
   ],
   "source": [
    "np.mean(predicted == ytest)"
   ]
  },
  {
   "cell_type": "code",
   "execution_count": null,
   "metadata": {},
   "outputs": [],
   "source": []
  }
 ],
 "metadata": {
  "kernelspec": {
   "display_name": "Python 3",
   "language": "python",
   "name": "python3"
  },
  "language_info": {
   "codemirror_mode": {
    "name": "ipython",
    "version": 3
   },
   "file_extension": ".py",
   "mimetype": "text/x-python",
   "name": "python",
   "nbconvert_exporter": "python",
   "pygments_lexer": "ipython3",
   "version": "3.7.2"
  }
 },
 "nbformat": 4,
 "nbformat_minor": 2
}
